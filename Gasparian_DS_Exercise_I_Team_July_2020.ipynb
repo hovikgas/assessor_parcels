{
  "nbformat": 4,
  "nbformat_minor": 0,
  "metadata": {
    "colab": {
      "name": "Gasparian_DS_Exercise_I-Team_July_2020.ipynb",
      "provenance": []
    },
    "kernelspec": {
      "name": "python3",
      "display_name": "Python 3"
    }
  },
  "cells": [
    {
      "cell_type": "markdown",
      "metadata": {
        "id": "2FxKZp2DfRoQ",
        "colab_type": "text"
      },
      "source": [
        "# Data Scientist Analysis Exercise, July 2020\n",
        "## Mayor Garcetti's Innovation Team\n",
        "### Author: Hovanes Gasparian\n",
        "#### Exercise Option 4: County Assessor Parcel Dataset"
      ]
    },
    {
      "cell_type": "markdown",
      "metadata": {
        "id": "rKnmtkM3fwzE",
        "colab_type": "text"
      },
      "source": [
        "#### Questions for Parcel within the City of Los Angeles\n",
        "\n",
        "\n",
        "\n",
        "1. How many parcels are in the City of Los Angeles?\n",
        "2. How many single-family parcels are there in the City of Los Angeles?\n",
        "3. What is the average square footage for different types of parcels? \n",
        "  * Does this vary by region within the city?\n",
        "4.  How has housing changed over time in the City of Los Angeles?\n",
        "5. What (if anything) does this dataset tell you about opportunities to build more affordable housing?\n",
        "6.  Based on your analysis, please share any changes to services, programs, or\n",
        "policies that the City should consider.\n"
      ]
    },
    {
      "cell_type": "markdown",
      "metadata": {
        "id": "CT1z0bAGj__v",
        "colab_type": "text"
      },
      "source": [
        "\n",
        "\n",
        "---\n",
        "\n"
      ]
    },
    {
      "cell_type": "markdown",
      "metadata": {
        "id": "kzSimGwfkEi0",
        "colab_type": "text"
      },
      "source": [
        "Need to first install sodapy, as it does not come preinstalled in Colab"
      ]
    },
    {
      "cell_type": "code",
      "metadata": {
        "id": "oZ23RQqukMAx",
        "colab_type": "code",
        "colab": {}
      },
      "source": [
        "# uncomment to install it \n",
        "# pip install sodapy"
      ],
      "execution_count": null,
      "outputs": []
    },
    {
      "cell_type": "code",
      "metadata": {
        "id": "ZHiWhccqfLFK",
        "colab_type": "code",
        "colab": {}
      },
      "source": [
        "import pandas as pd\n",
        "import numpy as np\n",
        "import matplotlib.pyplot as plt\n",
        "from sodapy import Socrata"
      ],
      "execution_count": null,
      "outputs": []
    },
    {
      "cell_type": "code",
      "metadata": {
        "id": "Um27w0MMhR6f",
        "colab_type": "code",
        "colab": {
          "base_uri": "https://localhost:8080/",
          "height": 34
        },
        "outputId": "81aee480-3504-4067-94e3-98833734cf89"
      },
      "source": [
        "client = Socrata(\"data.lacounty.gov\", None)"
      ],
      "execution_count": null,
      "outputs": [
        {
          "output_type": "stream",
          "text": [
            "WARNING:root:Requests made without an app_token will be subject to strict throttling limits.\n"
          ],
          "name": "stderr"
        }
      ]
    },
    {
      "cell_type": "code",
      "metadata": {
        "id": "8rgAOar9hcSW",
        "colab_type": "code",
        "colab": {}
      },
      "source": [
        "request = client.get('9trm-uz8i', limit='100', where='taxratearea_city=\"LOS ANGELES\"', )"
      ],
      "execution_count": null,
      "outputs": []
    },
    {
      "cell_type": "code",
      "metadata": {
        "id": "Eczps-FDh3zN",
        "colab_type": "code",
        "colab": {}
      },
      "source": [
        "request_df = pd.DataFrame.from_records(request)"
      ],
      "execution_count": null,
      "outputs": []
    },
    {
      "cell_type": "code",
      "metadata": {
        "id": "AazOQ4wVno4A",
        "colab_type": "code",
        "colab": {
          "base_uri": "https://localhost:8080/",
          "height": 952
        },
        "outputId": "9c09ac8e-13f8-4d4d-d13e-f01d7c5de318"
      },
      "source": [
        "request_df.info()"
      ],
      "execution_count": null,
      "outputs": [
        {
          "output_type": "stream",
          "text": [
            "<class 'pandas.core.frame.DataFrame'>\n",
            "RangeIndex: 100 entries, 0 to 99\n",
            "Data columns (total 48 columns):\n",
            " #   Column                     Non-Null Count  Dtype \n",
            "---  ------                     --------------  ----- \n",
            " 0   situszip                   97 non-null     object\n",
            " 1   taxratearea_city           100 non-null    object\n",
            " 2   ain                        100 non-null    object\n",
            " 3   rollyear                   100 non-null    object\n",
            " 4   taxratearea                100 non-null    object\n",
            " 5   assessorid                 100 non-null    object\n",
            " 6   propertylocation           97 non-null     object\n",
            " 7   usetype                    100 non-null    object\n",
            " 8   usecode                    100 non-null    object\n",
            " 9   usecodedescchar1           100 non-null    object\n",
            " 10  usecodedescchar2           100 non-null    object\n",
            " 11  usecodedescchar4           21 non-null     object\n",
            " 12  totbuildingdatalines       100 non-null    object\n",
            " 13  yearbuilt                  100 non-null    object\n",
            " 14  effectiveyearbuilt         100 non-null    object\n",
            " 15  sqftmain                   100 non-null    object\n",
            " 16  bedrooms                   100 non-null    object\n",
            " 17  bathrooms                  100 non-null    object\n",
            " 18  units                      100 non-null    object\n",
            " 19  recordingdate              100 non-null    object\n",
            " 20  roll_landvalue             100 non-null    object\n",
            " 21  roll_landbaseyear          100 non-null    object\n",
            " 22  roll_impvalue              100 non-null    object\n",
            " 23  roll_impbaseyear           100 non-null    object\n",
            " 24  roll_totlandimp            100 non-null    object\n",
            " 25  roll_homeownersexemp       100 non-null    object\n",
            " 26  roll_realestateexemp       100 non-null    object\n",
            " 27  roll_fixturevalue          100 non-null    object\n",
            " 28  roll_fixtureexemp          100 non-null    object\n",
            " 29  roll_perspropvalue         100 non-null    object\n",
            " 30  roll_perspropexemp         100 non-null    object\n",
            " 31  istaxableparcel            100 non-null    object\n",
            " 32  roll_totalvalue            100 non-null    object\n",
            " 33  roll_totalexemption        100 non-null    object\n",
            " 34  nettaxablevalue            100 non-null    object\n",
            " 35  adminregion                100 non-null    object\n",
            " 36  cluster                    100 non-null    object\n",
            " 37  parcelboundarydescription  100 non-null    object\n",
            " 38  situshouseno               100 non-null    object\n",
            " 39  situsdirection             74 non-null     object\n",
            " 40  situsstreet                97 non-null     object\n",
            " 41  situscity                  97 non-null     object\n",
            " 42  situszip5                  97 non-null     object\n",
            " 43  rowid                      100 non-null    object\n",
            " 44  center_lat                 100 non-null    object\n",
            " 45  center_lon                 100 non-null    object\n",
            " 46  location_1                 100 non-null    object\n",
            " 47  usecodedescchar3           1 non-null      object\n",
            "dtypes: object(48)\n",
            "memory usage: 37.6+ KB\n"
          ],
          "name": "stdout"
        }
      ]
    },
    {
      "cell_type": "code",
      "metadata": {
        "id": "6gxRIVt0nqVX",
        "colab_type": "code",
        "colab": {
          "base_uri": "https://localhost:8080/",
          "height": 272
        },
        "outputId": "8d1c178f-237d-409b-f9fd-cc5a0fac313c"
      },
      "source": [
        "parcels.columns"
      ],
      "execution_count": null,
      "outputs": [
        {
          "output_type": "execute_result",
          "data": {
            "text/plain": [
              "Index(['situszip', 'taxratearea_city', 'ain', 'rollyear', 'taxratearea',\n",
              "       'assessorid', 'propertylocation', 'usetype', 'usecode',\n",
              "       'usecodedescchar1', 'usecodedescchar2', 'usecodedescchar3',\n",
              "       'usecodedescchar4', 'totbuildingdatalines', 'yearbuilt',\n",
              "       'effectiveyearbuilt', 'sqftmain', 'bedrooms', 'bathrooms', 'units',\n",
              "       'recordingdate', 'roll_landvalue', 'roll_landbaseyear', 'roll_impvalue',\n",
              "       'roll_impbaseyear', 'roll_totlandimp', 'roll_homeownersexemp',\n",
              "       'roll_realestateexemp', 'roll_fixturevalue', 'roll_fixtureexemp',\n",
              "       'roll_perspropvalue', 'roll_perspropexemp', 'istaxableparcel',\n",
              "       'roll_totalvalue', 'roll_totalexemption', 'nettaxablevalue',\n",
              "       'parcelclassification', 'adminregion', 'cluster',\n",
              "       'parcelboundarydescription', 'situshouseno', 'situsfraction',\n",
              "       'situsdirection', 'situsstreet', 'situsunit', 'situscity', 'situszip5',\n",
              "       'rowid', 'center_lat', 'center_lon', 'location_1'],\n",
              "      dtype='object')"
            ]
          },
          "metadata": {
            "tags": []
          },
          "execution_count": 17
        }
      ]
    },
    {
      "cell_type": "code",
      "metadata": {
        "id": "biNJcw3Ro60H",
        "colab_type": "code",
        "colab": {
          "base_uri": "https://localhost:8080/",
          "height": 255
        },
        "outputId": "2387a0b1-d7cb-4da9-efef-6bc822871a4d"
      },
      "source": [
        "request_df.columns"
      ],
      "execution_count": null,
      "outputs": [
        {
          "output_type": "execute_result",
          "data": {
            "text/plain": [
              "Index(['situszip', 'taxratearea_city', 'ain', 'rollyear', 'taxratearea',\n",
              "       'assessorid', 'propertylocation', 'usetype', 'usecode',\n",
              "       'usecodedescchar1', 'usecodedescchar2', 'usecodedescchar4',\n",
              "       'totbuildingdatalines', 'yearbuilt', 'effectiveyearbuilt', 'sqftmain',\n",
              "       'bedrooms', 'bathrooms', 'units', 'recordingdate', 'roll_landvalue',\n",
              "       'roll_landbaseyear', 'roll_impvalue', 'roll_impbaseyear',\n",
              "       'roll_totlandimp', 'roll_homeownersexemp', 'roll_realestateexemp',\n",
              "       'roll_fixturevalue', 'roll_fixtureexemp', 'roll_perspropvalue',\n",
              "       'roll_perspropexemp', 'istaxableparcel', 'roll_totalvalue',\n",
              "       'roll_totalexemption', 'nettaxablevalue', 'adminregion', 'cluster',\n",
              "       'parcelboundarydescription', 'situshouseno', 'situsdirection',\n",
              "       'situsstreet', 'situscity', 'situszip5', 'rowid', 'center_lat',\n",
              "       'center_lon', 'location_1', 'usecodedescchar3'],\n",
              "      dtype='object')"
            ]
          },
          "metadata": {
            "tags": []
          },
          "execution_count": 18
        }
      ]
    },
    {
      "cell_type": "code",
      "metadata": {
        "id": "MOHLQkj5pAki",
        "colab_type": "code",
        "colab": {
          "base_uri": "https://localhost:8080/",
          "height": 68
        },
        "outputId": "5e54479a-ac44-4cf9-a52b-ad101a5d6fba"
      },
      "source": [
        "for x, y in zip(parcels.columns, request_df.columns):\n",
        "  if x not in request_df.columns:\n",
        "    print(x)"
      ],
      "execution_count": null,
      "outputs": [
        {
          "output_type": "stream",
          "text": [
            "parcelclassification\n",
            "situsfraction\n",
            "situsunit\n"
          ],
          "name": "stdout"
        }
      ]
    },
    {
      "cell_type": "code",
      "metadata": {
        "id": "CeTrd_WKpSYr",
        "colab_type": "code",
        "colab": {}
      },
      "source": [
        "for x, y in zip(parcels.columns, request_df.columns):\n",
        "  if y not in parcels.columns:\n",
        "    print(y)"
      ],
      "execution_count": null,
      "outputs": []
    },
    {
      "cell_type": "code",
      "metadata": {
        "id": "d6zb6TMSprtc",
        "colab_type": "code",
        "colab": {
          "base_uri": "https://localhost:8080/",
          "height": 68
        },
        "outputId": "25fb6adc-8879-4cf0-abd1-2213a7d3bbac"
      },
      "source": [
        "parcels.parcelclassification.value_counts(dropna=False)"
      ],
      "execution_count": null,
      "outputs": [
        {
          "output_type": "execute_result",
          "data": {
            "text/plain": [
              "       929\n",
              "NaN     71\n",
              "Name: parcelclassification, dtype: int64"
            ]
          },
          "metadata": {
            "tags": []
          },
          "execution_count": 30
        }
      ]
    },
    {
      "cell_type": "code",
      "metadata": {
        "id": "gOKSWXf4p3Xx",
        "colab_type": "code",
        "colab": {
          "base_uri": "https://localhost:8080/",
          "height": 68
        },
        "outputId": "3b69accb-cde6-4434-a06d-625638677c18"
      },
      "source": [
        "parcels.situsfraction.value_counts(dropna=False)"
      ],
      "execution_count": null,
      "outputs": [
        {
          "output_type": "execute_result",
          "data": {
            "text/plain": [
              "       929\n",
              "NaN     71\n",
              "Name: situsfraction, dtype: int64"
            ]
          },
          "metadata": {
            "tags": []
          },
          "execution_count": 31
        }
      ]
    },
    {
      "cell_type": "code",
      "metadata": {
        "id": "qY-gBO5zrF2e",
        "colab_type": "code",
        "colab": {
          "base_uri": "https://localhost:8080/",
          "height": 153
        },
        "outputId": "e7a378bc-311d-4fcf-e621-1afe6ede87d5"
      },
      "source": [
        "request_df.usecode.value_counts(dropna=False)"
      ],
      "execution_count": null,
      "outputs": [
        {
          "output_type": "execute_result",
          "data": {
            "text/plain": [
              "0100    79\n",
              "0101    10\n",
              "0104     4\n",
              "010V     3\n",
              "0109     2\n",
              "0108     1\n",
              "0501     1\n",
              "Name: usecode, dtype: int64"
            ]
          },
          "metadata": {
            "tags": []
          },
          "execution_count": 32
        }
      ]
    },
    {
      "cell_type": "code",
      "metadata": {
        "id": "E2wT4KZWrI5u",
        "colab_type": "code",
        "colab": {}
      },
      "source": [
        ""
      ],
      "execution_count": null,
      "outputs": []
    }
  ]
}